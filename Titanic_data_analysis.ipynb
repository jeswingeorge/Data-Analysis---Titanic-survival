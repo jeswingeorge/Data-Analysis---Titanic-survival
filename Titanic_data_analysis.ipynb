{
 "cells": [
  {
   "cell_type": "markdown",
   "metadata": {},
   "source": [
    "# Data set used : Titanic data"
   ]
  },
  {
   "cell_type": "code",
   "execution_count": 1,
   "metadata": {
    "collapsed": true
   },
   "outputs": [],
   "source": [
    "# Importing all the necessary packages.\n",
    "%matplotlib inline\n",
    "import numpy as np\n",
    "import pandas as pd\n",
    "import matplotlib.pyplot as plt\n",
    "import seaborn as sns"
   ]
  },
  {
   "cell_type": "code",
   "execution_count": 2,
   "metadata": {
    "collapsed": true
   },
   "outputs": [],
   "source": [
    "# Loading the csv file as a pandas dataframe\n",
    "titanic_df = pd.read_csv('titanic-data.csv')"
   ]
  },
  {
   "cell_type": "code",
   "execution_count": 3,
   "metadata": {},
   "outputs": [
    {
     "data": {
      "text/html": [
       "<div>\n",
       "<style>\n",
       "    .dataframe thead tr:only-child th {\n",
       "        text-align: right;\n",
       "    }\n",
       "\n",
       "    .dataframe thead th {\n",
       "        text-align: left;\n",
       "    }\n",
       "\n",
       "    .dataframe tbody tr th {\n",
       "        vertical-align: top;\n",
       "    }\n",
       "</style>\n",
       "<table border=\"1\" class=\"dataframe\">\n",
       "  <thead>\n",
       "    <tr style=\"text-align: right;\">\n",
       "      <th></th>\n",
       "      <th>PassengerId</th>\n",
       "      <th>Survived</th>\n",
       "      <th>Pclass</th>\n",
       "      <th>Name</th>\n",
       "      <th>Sex</th>\n",
       "      <th>Age</th>\n",
       "      <th>SibSp</th>\n",
       "      <th>Parch</th>\n",
       "      <th>Ticket</th>\n",
       "      <th>Fare</th>\n",
       "      <th>Cabin</th>\n",
       "      <th>Embarked</th>\n",
       "    </tr>\n",
       "  </thead>\n",
       "  <tbody>\n",
       "    <tr>\n",
       "      <th>0</th>\n",
       "      <td>1</td>\n",
       "      <td>0</td>\n",
       "      <td>3</td>\n",
       "      <td>Braund, Mr. Owen Harris</td>\n",
       "      <td>male</td>\n",
       "      <td>22.0</td>\n",
       "      <td>1</td>\n",
       "      <td>0</td>\n",
       "      <td>A/5 21171</td>\n",
       "      <td>7.2500</td>\n",
       "      <td>NaN</td>\n",
       "      <td>S</td>\n",
       "    </tr>\n",
       "    <tr>\n",
       "      <th>1</th>\n",
       "      <td>2</td>\n",
       "      <td>1</td>\n",
       "      <td>1</td>\n",
       "      <td>Cumings, Mrs. John Bradley (Florence Briggs Th...</td>\n",
       "      <td>female</td>\n",
       "      <td>38.0</td>\n",
       "      <td>1</td>\n",
       "      <td>0</td>\n",
       "      <td>PC 17599</td>\n",
       "      <td>71.2833</td>\n",
       "      <td>C85</td>\n",
       "      <td>C</td>\n",
       "    </tr>\n",
       "    <tr>\n",
       "      <th>2</th>\n",
       "      <td>3</td>\n",
       "      <td>1</td>\n",
       "      <td>3</td>\n",
       "      <td>Heikkinen, Miss. Laina</td>\n",
       "      <td>female</td>\n",
       "      <td>26.0</td>\n",
       "      <td>0</td>\n",
       "      <td>0</td>\n",
       "      <td>STON/O2. 3101282</td>\n",
       "      <td>7.9250</td>\n",
       "      <td>NaN</td>\n",
       "      <td>S</td>\n",
       "    </tr>\n",
       "    <tr>\n",
       "      <th>3</th>\n",
       "      <td>4</td>\n",
       "      <td>1</td>\n",
       "      <td>1</td>\n",
       "      <td>Futrelle, Mrs. Jacques Heath (Lily May Peel)</td>\n",
       "      <td>female</td>\n",
       "      <td>35.0</td>\n",
       "      <td>1</td>\n",
       "      <td>0</td>\n",
       "      <td>113803</td>\n",
       "      <td>53.1000</td>\n",
       "      <td>C123</td>\n",
       "      <td>S</td>\n",
       "    </tr>\n",
       "    <tr>\n",
       "      <th>4</th>\n",
       "      <td>5</td>\n",
       "      <td>0</td>\n",
       "      <td>3</td>\n",
       "      <td>Allen, Mr. William Henry</td>\n",
       "      <td>male</td>\n",
       "      <td>35.0</td>\n",
       "      <td>0</td>\n",
       "      <td>0</td>\n",
       "      <td>373450</td>\n",
       "      <td>8.0500</td>\n",
       "      <td>NaN</td>\n",
       "      <td>S</td>\n",
       "    </tr>\n",
       "  </tbody>\n",
       "</table>\n",
       "</div>"
      ],
      "text/plain": [
       "   PassengerId  Survived  Pclass  \\\n",
       "0            1         0       3   \n",
       "1            2         1       1   \n",
       "2            3         1       3   \n",
       "3            4         1       1   \n",
       "4            5         0       3   \n",
       "\n",
       "                                                Name     Sex   Age  SibSp  \\\n",
       "0                            Braund, Mr. Owen Harris    male  22.0      1   \n",
       "1  Cumings, Mrs. John Bradley (Florence Briggs Th...  female  38.0      1   \n",
       "2                             Heikkinen, Miss. Laina  female  26.0      0   \n",
       "3       Futrelle, Mrs. Jacques Heath (Lily May Peel)  female  35.0      1   \n",
       "4                           Allen, Mr. William Henry    male  35.0      0   \n",
       "\n",
       "   Parch            Ticket     Fare Cabin Embarked  \n",
       "0      0         A/5 21171   7.2500   NaN        S  \n",
       "1      0          PC 17599  71.2833   C85        C  \n",
       "2      0  STON/O2. 3101282   7.9250   NaN        S  \n",
       "3      0            113803  53.1000  C123        S  \n",
       "4      0            373450   8.0500   NaN        S  "
      ]
     },
     "execution_count": 3,
     "metadata": {},
     "output_type": "execute_result"
    }
   ],
   "source": [
    "# Studying the Titanic data set\n",
    "titanic_df.head()"
   ]
  },
  {
   "cell_type": "markdown",
   "metadata": {},
   "source": [
    "# Explaining the dataset\n",
    "The above dataset consists of a list of 891 passengers who were onboard on the Titanic. The above dataset consists of 891 rows and 12 columns. The 12 columns gives the following details about the passengers - \n",
    "\n",
    "Passenger Id\n",
    "\n",
    "Survived - This column gives information whether the concerned passenger had survived the tragedy or not.\n",
    "\n",
    "           1 ---> The passenger survived\n",
    "           0 ---> The passenger did not survive\n",
    "\n",
    "pclass - Passenger Ticket class : Class 1, 2 and 3.\n",
    "\n",
    "Name   - Name of the passenger\n",
    "\n",
    "sex    - Sex of the Passenger\n",
    "\n",
    "Age\t   - Age in years of the Passenger\n",
    "\n",
    "sibsp   - Number of siblings / spouses aboard the Titanic\n",
    "\n",
    "parch\t- Number of parents / children aboard the Titanic\n",
    "\n",
    "Ticket\t- Ticket number\n",
    "\n",
    "Fare\t- Passenger fare\n",
    "\n",
    "Cabin\t- Cabin number\n",
    "\n",
    "Embarked -\tPort of Embarkation shows the port from which the passenger boarded the titanic\n",
    "\n",
    "           C - Cherbourg\n",
    "           Q - Queenstown\n",
    "           S - Southampton"
   ]
  },
  {
   "cell_type": "markdown",
   "metadata": {},
   "source": [
    "The objective of this project is to find out which factors could have helped in improving the survival chances of the passengers on board. Here , i have tried to find out the survival chances of passengers with respect to the given factors such as sex, Passenger class, port of embarkation, siblings, spouses or parents they had with them during the journey."
   ]
  },
  {
   "cell_type": "markdown",
   "metadata": {},
   "source": [
    "# Some questions based on the above data set\n",
    "\n",
    "1. Which sex had the better chance of survival?\n",
    "2. Classify the male and female passengers, as adult or child based on their age and find out their chances of survival?\n",
    "3. Determine the number and proportion of survivors from each port of embarkation.\n",
    "4. Find the number and proportion of passengers surviving based on the passenger class?\n",
    "5. Does the passenger fare affect the survival of passengers?\n",
    "6. Compare the survival rate of children who had parents on board as compared to those who didn't had theirs.\n",
    "7. Compare the survival rate of people who had siblings on board as compared to those who didn't had theirs."
   ]
  },
  {
   "cell_type": "code",
   "execution_count": 4,
   "metadata": {},
   "outputs": [
    {
     "data": {
      "text/plain": [
       "(891, 12)"
      ]
     },
     "execution_count": 4,
     "metadata": {},
     "output_type": "execute_result"
    }
   ],
   "source": [
    "# To get the idea of total number of rows and columns in the data frame.\n",
    "titanic_df.shape"
   ]
  },
  {
   "cell_type": "code",
   "execution_count": 5,
   "metadata": {},
   "outputs": [
    {
     "data": {
      "text/html": [
       "<div>\n",
       "<style>\n",
       "    .dataframe thead tr:only-child th {\n",
       "        text-align: right;\n",
       "    }\n",
       "\n",
       "    .dataframe thead th {\n",
       "        text-align: left;\n",
       "    }\n",
       "\n",
       "    .dataframe tbody tr th {\n",
       "        vertical-align: top;\n",
       "    }\n",
       "</style>\n",
       "<table border=\"1\" class=\"dataframe\">\n",
       "  <thead>\n",
       "    <tr style=\"text-align: right;\">\n",
       "      <th></th>\n",
       "      <th>PassengerId</th>\n",
       "      <th>Survived</th>\n",
       "      <th>Pclass</th>\n",
       "      <th>Age</th>\n",
       "      <th>SibSp</th>\n",
       "      <th>Parch</th>\n",
       "      <th>Fare</th>\n",
       "    </tr>\n",
       "  </thead>\n",
       "  <tbody>\n",
       "    <tr>\n",
       "      <th>count</th>\n",
       "      <td>891.000000</td>\n",
       "      <td>891.000000</td>\n",
       "      <td>891.000000</td>\n",
       "      <td>714.000000</td>\n",
       "      <td>891.000000</td>\n",
       "      <td>891.000000</td>\n",
       "      <td>891.000000</td>\n",
       "    </tr>\n",
       "    <tr>\n",
       "      <th>mean</th>\n",
       "      <td>446.000000</td>\n",
       "      <td>0.383838</td>\n",
       "      <td>2.308642</td>\n",
       "      <td>29.699118</td>\n",
       "      <td>0.523008</td>\n",
       "      <td>0.381594</td>\n",
       "      <td>32.204208</td>\n",
       "    </tr>\n",
       "    <tr>\n",
       "      <th>std</th>\n",
       "      <td>257.353842</td>\n",
       "      <td>0.486592</td>\n",
       "      <td>0.836071</td>\n",
       "      <td>14.526497</td>\n",
       "      <td>1.102743</td>\n",
       "      <td>0.806057</td>\n",
       "      <td>49.693429</td>\n",
       "    </tr>\n",
       "    <tr>\n",
       "      <th>min</th>\n",
       "      <td>1.000000</td>\n",
       "      <td>0.000000</td>\n",
       "      <td>1.000000</td>\n",
       "      <td>0.420000</td>\n",
       "      <td>0.000000</td>\n",
       "      <td>0.000000</td>\n",
       "      <td>0.000000</td>\n",
       "    </tr>\n",
       "    <tr>\n",
       "      <th>25%</th>\n",
       "      <td>223.500000</td>\n",
       "      <td>0.000000</td>\n",
       "      <td>2.000000</td>\n",
       "      <td>20.125000</td>\n",
       "      <td>0.000000</td>\n",
       "      <td>0.000000</td>\n",
       "      <td>7.910400</td>\n",
       "    </tr>\n",
       "    <tr>\n",
       "      <th>50%</th>\n",
       "      <td>446.000000</td>\n",
       "      <td>0.000000</td>\n",
       "      <td>3.000000</td>\n",
       "      <td>28.000000</td>\n",
       "      <td>0.000000</td>\n",
       "      <td>0.000000</td>\n",
       "      <td>14.454200</td>\n",
       "    </tr>\n",
       "    <tr>\n",
       "      <th>75%</th>\n",
       "      <td>668.500000</td>\n",
       "      <td>1.000000</td>\n",
       "      <td>3.000000</td>\n",
       "      <td>38.000000</td>\n",
       "      <td>1.000000</td>\n",
       "      <td>0.000000</td>\n",
       "      <td>31.000000</td>\n",
       "    </tr>\n",
       "    <tr>\n",
       "      <th>max</th>\n",
       "      <td>891.000000</td>\n",
       "      <td>1.000000</td>\n",
       "      <td>3.000000</td>\n",
       "      <td>80.000000</td>\n",
       "      <td>8.000000</td>\n",
       "      <td>6.000000</td>\n",
       "      <td>512.329200</td>\n",
       "    </tr>\n",
       "  </tbody>\n",
       "</table>\n",
       "</div>"
      ],
      "text/plain": [
       "       PassengerId    Survived      Pclass         Age       SibSp  \\\n",
       "count   891.000000  891.000000  891.000000  714.000000  891.000000   \n",
       "mean    446.000000    0.383838    2.308642   29.699118    0.523008   \n",
       "std     257.353842    0.486592    0.836071   14.526497    1.102743   \n",
       "min       1.000000    0.000000    1.000000    0.420000    0.000000   \n",
       "25%     223.500000    0.000000    2.000000   20.125000    0.000000   \n",
       "50%     446.000000    0.000000    3.000000   28.000000    0.000000   \n",
       "75%     668.500000    1.000000    3.000000   38.000000    1.000000   \n",
       "max     891.000000    1.000000    3.000000   80.000000    8.000000   \n",
       "\n",
       "            Parch        Fare  \n",
       "count  891.000000  891.000000  \n",
       "mean     0.381594   32.204208  \n",
       "std      0.806057   49.693429  \n",
       "min      0.000000    0.000000  \n",
       "25%      0.000000    7.910400  \n",
       "50%      0.000000   14.454200  \n",
       "75%      0.000000   31.000000  \n",
       "max      6.000000  512.329200  "
      ]
     },
     "execution_count": 5,
     "metadata": {},
     "output_type": "execute_result"
    }
   ],
   "source": [
    "# To get details such as count, maximum, minimum, mean , etc., which helps in improving the analysis.\n",
    "titanic_df.describe()"
   ]
  },
  {
   "cell_type": "markdown",
   "metadata": {},
   "source": [
    "# Data wrangling : Cleaning the data for analysis"
   ]
  },
  {
   "cell_type": "markdown",
   "metadata": {},
   "source": [
    "As observed from the output of describe function, we see that some of the rows under the age column has no values. So to improve the analysis i have used the df.fillna() function to fill these empty values with the median of the given age values. \n",
    "\n",
    "Also the data, for the column under the port of embarkation has some missing values. As the number of passengers from the Southampton port is fairly large in number so here for the analysis i have assumed these passengers port of embarkation as 'S' (Sothampton). "
   ]
  },
  {
   "cell_type": "code",
   "execution_count": 6,
   "metadata": {
    "collapsed": true
   },
   "outputs": [],
   "source": [
    "titanic_df[\"Age\"]= titanic_df[\"Age\"].fillna(titanic_df[\"Age\"].median())\n",
    "titanic_df[\"Embarked\"] = titanic_df[\"Embarked\"].fillna('S')"
   ]
  },
  {
   "cell_type": "markdown",
   "metadata": {},
   "source": [
    "# Checking chances of survival of male and female passengers on the ship"
   ]
  },
  {
   "cell_type": "code",
   "execution_count": 7,
   "metadata": {},
   "outputs": [
    {
     "name": "stdout",
     "output_type": "stream",
     "text": [
      "Total number of males onboard the Titanic : 577.\n",
      "Total number of females onboard the Titanic : 314.\n"
     ]
    }
   ],
   "source": [
    "sex_count = titanic_df['Sex'].value_counts()\n",
    "total_males_onboard = sex_count['male']\n",
    "total_females_onboard = sex_count['female']\n",
    "Passengers_onboard = titanic_df.groupby('Sex').count()['PassengerId']\n",
    "\n",
    "print(\"Total number of males onboard the Titanic : {}.\".format(total_males_onboard))\n",
    "print(\"Total number of females onboard the Titanic : {}.\".format(total_females_onboard))"
   ]
  },
  {
   "cell_type": "code",
   "execution_count": 8,
   "metadata": {},
   "outputs": [
    {
     "name": "stdout",
     "output_type": "stream",
     "text": [
      "Number of males survived : 109.\n",
      "Number of females survived : 233.\n"
     ]
    }
   ],
   "source": [
    "# To count the number of males and females who survived\n",
    "\n",
    "survived_sex = titanic_df.groupby('Sex').sum()['Survived']\n",
    "survived_males = survived_sex['male']\n",
    "survived_females = survived_sex['female']\n",
    "\n",
    "print(\"Number of males survived : {}.\".format(survived_males))\n",
    "print(\"Number of females survived : {}.\".format(survived_females))"
   ]
  },
  {
   "cell_type": "code",
   "execution_count": 9,
   "metadata": {},
   "outputs": [
    {
     "name": "stdout",
     "output_type": "stream",
     "text": [
      "Proportion of people suvived :  0.383838383838\n",
      "Proportion of males survived :  0.188908145581\n",
      "Proportion of females survived :  0.742038216561\n"
     ]
    }
   ],
   "source": [
    "print(\"Proportion of people suvived : \",(survived_males + survived_females)/(total_males_onboard + total_females_onboard))\n",
    "print(\"Proportion of males survived : \", survived_males/total_males_onboard)\n",
    "print(\"Proportion of females survived : \",survived_females/total_females_onboard)"
   ]
  },
  {
   "cell_type": "code",
   "execution_count": 10,
   "metadata": {},
   "outputs": [
    {
     "data": {
      "text/html": [
       "<div>\n",
       "<style>\n",
       "    .dataframe thead tr:only-child th {\n",
       "        text-align: right;\n",
       "    }\n",
       "\n",
       "    .dataframe thead th {\n",
       "        text-align: left;\n",
       "    }\n",
       "\n",
       "    .dataframe tbody tr th {\n",
       "        vertical-align: top;\n",
       "    }\n",
       "</style>\n",
       "<table border=\"1\" class=\"dataframe\">\n",
       "  <thead>\n",
       "    <tr style=\"text-align: right;\">\n",
       "      <th></th>\n",
       "      <th>Passengers onboard</th>\n",
       "      <th>Survived passengers</th>\n",
       "    </tr>\n",
       "    <tr>\n",
       "      <th>Sex</th>\n",
       "      <th></th>\n",
       "      <th></th>\n",
       "    </tr>\n",
       "  </thead>\n",
       "  <tbody>\n",
       "    <tr>\n",
       "      <th>female</th>\n",
       "      <td>314</td>\n",
       "      <td>233</td>\n",
       "    </tr>\n",
       "    <tr>\n",
       "      <th>male</th>\n",
       "      <td>577</td>\n",
       "      <td>109</td>\n",
       "    </tr>\n",
       "  </tbody>\n",
       "</table>\n",
       "</div>"
      ],
      "text/plain": [
       "        Passengers onboard  Survived passengers\n",
       "Sex                                            \n",
       "female                 314                  233\n",
       "male                   577                  109"
      ]
     },
     "execution_count": 10,
     "metadata": {},
     "output_type": "execute_result"
    }
   ],
   "source": [
    "survived_passengers_sex = pd.concat([Passengers_onboard,survived_sex],axis='columns')\n",
    "survived_passengers_sex.columns.values[0] = 'Passengers onboard'\n",
    "survived_passengers_sex.columns.values[1] = 'Survived passengers'\n",
    "survived_passengers_sex"
   ]
  },
  {
   "cell_type": "code",
   "execution_count": 11,
   "metadata": {},
   "outputs": [
    {
     "data": {
      "text/plain": [
       "<matplotlib.text.Text at 0x3d042a0438>"
      ]
     },
     "execution_count": 11,
     "metadata": {},
     "output_type": "execute_result"
    },
    {
     "data": {
      "image/png": "[encoded data removed]",
      "text/plain": [
       "<matplotlib.figure.Figure at 0x3d040de710>"
      ]
     },
     "metadata": {},
     "output_type": "display_data"
    }
   ],
   "source": [
    "survived_passengers_sex.plot(kind='bar')\n",
    "plt.xlabel('People classified based on sex')\n",
    "plt.ylabel('Total number')\n",
    "plt.title('Compare the survival of passengers based on their sex')"
   ]
  },
  {
   "cell_type": "markdown",
   "metadata": {},
   "source": [
    "__From the above bar graph__, we can see that the number of male passengers onboard the titanic was more than the number of female passengers onboard. But after the tragedy the number of female survivors were more than the number of male survivors i.e., large number of male passengers had lost their lives as compared to that of the female passengers. "
   ]
  },
  {
   "cell_type": "markdown",
   "metadata": {},
   "source": [
    "__From the above analysis we observe__ that there were 577 male passenegers onboard and 314 female passengers onboard the Titanic. But after the tragedy, only 109 out of the 577 male passengers survived and 233 out of the 314 female passengers had survived. So, the chances of survival of female passengers was 74.2% as compared to that of 19% of the male passengers.\n",
    "\n",
    "__Hence, it can be concluded__ that the chances of survival of female passenegers on the ship were better as compared to that of the male passengers.\n",
    "\n",
    "__Limitation of this analysis :__ Here we cannot find the cause why chances of survival of female passengers were better than that of the male passengers on the Titanic.\n",
    "\n",
    "__As a further improvement to this analysis__, we can check which age group of male and female passengers had more chances of survival."
   ]
  },
  {
   "cell_type": "markdown",
   "metadata": {},
   "source": [
    "# Classifying the male and female passengers, as adult or child based on their age and finding out their chances of survival."
   ]
  },
  {
   "cell_type": "markdown",
   "metadata": {},
   "source": [
    "Here i have classified passengers on the ship based on both their sex and age. I have classifed the passengers both male and female as child if their corresponding age is less than or equal to 18, and have classified them as adults if their corresponding age is greater than 18.\n"
   ]
  },
  {
   "cell_type": "code",
   "execution_count": 12,
   "metadata": {
    "collapsed": true
   },
   "outputs": [],
   "source": [
    "# Creating an additional column in the data frame\n",
    "# Creating a list to store data\n",
    "adult_child = []\n",
    "\n",
    "for i in range(len(titanic_df['Sex'])):\n",
    "    if titanic_df['Sex'].iloc[i] == 'male':\n",
    "        if titanic_df['Age'].iloc[i] > 18:\n",
    "            adult_child.append(\"Male_adult\")\n",
    "        else:\n",
    "            adult_child.append(\"Male_child\")\n",
    "            \n",
    "    else:\n",
    "        if titanic_df['Age'].iloc[i] > 18:\n",
    "            adult_child.append(\"Female_adult\")\n",
    "        else:\n",
    "            adult_child.append(\"Female_child\")\n",
    "\n",
    "titanic_df['adult_child'] = adult_child  # Additional column added to the dataframe"
   ]
  },
  {
   "cell_type": "code",
   "execution_count": 13,
   "metadata": {},
   "outputs": [
    {
     "data": {
      "text/html": [
       "<div>\n",
       "<style>\n",
       "    .dataframe thead tr:only-child th {\n",
       "        text-align: right;\n",
       "    }\n",
       "\n",
       "    .dataframe thead th {\n",
       "        text-align: left;\n",
       "    }\n",
       "\n",
       "    .dataframe tbody tr th {\n",
       "        vertical-align: top;\n",
       "    }\n",
       "</style>\n",
       "<table border=\"1\" class=\"dataframe\">\n",
       "  <thead>\n",
       "    <tr style=\"text-align: right;\">\n",
       "      <th></th>\n",
       "      <th>PassengerId</th>\n",
       "      <th>Survived</th>\n",
       "      <th>Pclass</th>\n",
       "      <th>Name</th>\n",
       "      <th>Sex</th>\n",
       "      <th>Age</th>\n",
       "      <th>SibSp</th>\n",
       "      <th>Parch</th>\n",
       "      <th>Ticket</th>\n",
       "      <th>Fare</th>\n",
       "      <th>Cabin</th>\n",
       "      <th>Embarked</th>\n",
       "      <th>adult_child</th>\n",
       "    </tr>\n",
       "  </thead>\n",
       "  <tbody>\n",
       "    <tr>\n",
       "      <th>0</th>\n",
       "      <td>1</td>\n",
       "      <td>0</td>\n",
       "      <td>3</td>\n",
       "      <td>Braund, Mr. Owen Harris</td>\n",
       "      <td>male</td>\n",
       "      <td>22.0</td>\n",
       "      <td>1</td>\n",
       "      <td>0</td>\n",
       "      <td>A/5 21171</td>\n",
       "      <td>7.2500</td>\n",
       "      <td>NaN</td>\n",
       "      <td>S</td>\n",
       "      <td>Male_adult</td>\n",
       "    </tr>\n",
       "    <tr>\n",
       "      <th>1</th>\n",
       "      <td>2</td>\n",
       "      <td>1</td>\n",
       "      <td>1</td>\n",
       "      <td>Cumings, Mrs. John Bradley (Florence Briggs Th...</td>\n",
       "      <td>female</td>\n",
       "      <td>38.0</td>\n",
       "      <td>1</td>\n",
       "      <td>0</td>\n",
       "      <td>PC 17599</td>\n",
       "      <td>71.2833</td>\n",
       "      <td>C85</td>\n",
       "      <td>C</td>\n",
       "      <td>Female_adult</td>\n",
       "    </tr>\n",
       "    <tr>\n",
       "      <th>2</th>\n",
       "      <td>3</td>\n",
       "      <td>1</td>\n",
       "      <td>3</td>\n",
       "      <td>Heikkinen, Miss. Laina</td>\n",
       "      <td>female</td>\n",
       "      <td>26.0</td>\n",
       "      <td>0</td>\n",
       "      <td>0</td>\n",
       "      <td>STON/O2. 3101282</td>\n",
       "      <td>7.9250</td>\n",
       "      <td>NaN</td>\n",
       "      <td>S</td>\n",
       "      <td>Female_adult</td>\n",
       "    </tr>\n",
       "    <tr>\n",
       "      <th>3</th>\n",
       "      <td>4</td>\n",
       "      <td>1</td>\n",
       "      <td>1</td>\n",
       "      <td>Futrelle, Mrs. Jacques Heath (Lily May Peel)</td>\n",
       "      <td>female</td>\n",
       "      <td>35.0</td>\n",
       "      <td>1</td>\n",
       "      <td>0</td>\n",
       "      <td>113803</td>\n",
       "      <td>53.1000</td>\n",
       "      <td>C123</td>\n",
       "      <td>S</td>\n",
       "      <td>Female_adult</td>\n",
       "    </tr>\n",
       "    <tr>\n",
       "      <th>4</th>\n",
       "      <td>5</td>\n",
       "      <td>0</td>\n",
       "      <td>3</td>\n",
       "      <td>Allen, Mr. William Henry</td>\n",
       "      <td>male</td>\n",
       "      <td>35.0</td>\n",
       "      <td>0</td>\n",
       "      <td>0</td>\n",
       "      <td>373450</td>\n",
       "      <td>8.0500</td>\n",
       "      <td>NaN</td>\n",
       "      <td>S</td>\n",
       "      <td>Male_adult</td>\n",
       "    </tr>\n",
       "  </tbody>\n",
       "</table>\n",
       "</div>"
      ],
      "text/plain": [
       "   PassengerId  Survived  Pclass  \\\n",
       "0            1         0       3   \n",
       "1            2         1       1   \n",
       "2            3         1       3   \n",
       "3            4         1       1   \n",
       "4            5         0       3   \n",
       "\n",
       "                                                Name     Sex   Age  SibSp  \\\n",
       "0                            Braund, Mr. Owen Harris    male  22.0      1   \n",
       "1  Cumings, Mrs. John Bradley (Florence Briggs Th...  female  38.0      1   \n",
       "2                             Heikkinen, Miss. Laina  female  26.0      0   \n",
       "3       Futrelle, Mrs. Jacques Heath (Lily May Peel)  female  35.0      1   \n",
       "4                           Allen, Mr. William Henry    male  35.0      0   \n",
       "\n",
       "   Parch            Ticket     Fare Cabin Embarked   adult_child  \n",
       "0      0         A/5 21171   7.2500   NaN        S    Male_adult  \n",
       "1      0          PC 17599  71.2833   C85        C  Female_adult  \n",
       "2      0  STON/O2. 3101282   7.9250   NaN        S  Female_adult  \n",
       "3      0            113803  53.1000  C123        S  Female_adult  \n",
       "4      0            373450   8.0500   NaN        S    Male_adult  "
      ]
     },
     "execution_count": 13,
     "metadata": {},
     "output_type": "execute_result"
    }
   ],
   "source": [
    "# The modified dataframe\n",
    "titanic_df.head()"
   ]
  },
  {
   "cell_type": "markdown",
   "metadata": {},
   "source": [
    "Taking count of the four categories of passengers based on the classification i have made."
   ]
  },
  {
   "cell_type": "code",
   "execution_count": 14,
   "metadata": {},
   "outputs": [
    {
     "data": {
      "text/plain": [
       "Male_adult      506\n",
       "Female_adult    246\n",
       "Male_child       71\n",
       "Female_child     68\n",
       "Name: adult_child, dtype: int64"
      ]
     },
     "execution_count": 14,
     "metadata": {},
     "output_type": "execute_result"
    }
   ],
   "source": [
    "adult_and_children_onboard = titanic_df['adult_child'].value_counts()\n",
    "adult_and_children_onboard"
   ]
  },
  {
   "cell_type": "code",
   "execution_count": 15,
   "metadata": {},
   "outputs": [
    {
     "name": "stdout",
     "output_type": "stream",
     "text": [
      "Total number of male adults on the Titanic : 506.\n",
      "Total number of male children on the Titanic : 71.\n",
      "Total number of females adults on the Titanic : 246.\n",
      "Total number of females children on the Titanic : 68.\n"
     ]
    }
   ],
   "source": [
    "print(\"Total number of male adults on the Titanic : {}.\".format(adult_and_children_onboard['Male_adult']))\n",
    "print(\"Total number of male children on the Titanic : {}.\".format(adult_and_children_onboard['Male_child']))\n",
    "print(\"Total number of females adults on the Titanic : {}.\".format(adult_and_children_onboard['Female_adult']))\n",
    "print(\"Total number of females children on the Titanic : {}.\".format(adult_and_children_onboard['Female_child']))"
   ]
  },
  {
   "cell_type": "markdown",
   "metadata": {},
   "source": [
    "Taking count of the survivors on the Titanic based on the classification."
   ]
  },
  {
   "cell_type": "code",
   "execution_count": 16,
   "metadata": {},
   "outputs": [
    {
     "name": "stdout",
     "output_type": "stream",
     "text": [
      "Clssifying Survivors based on their age and sex\n"
     ]
    },
    {
     "data": {
      "text/plain": [
       "Female_adult    187\n",
       "Male_adult       85\n",
       "Female_child     46\n",
       "Male_child       24\n",
       "Name: adult_child, dtype: int64"
      ]
     },
     "execution_count": 16,
     "metadata": {},
     "output_type": "execute_result"
    }
   ],
   "source": [
    "a = titanic_df['adult_child']\n",
    "b = titanic_df['Survived']\n",
    "Survivors = a[b==1]  # Finding the survived people with help of indexing feature in pandas series\n",
    "print('Clssifying Survivors based on their age and sex')\n",
    "survived_people = Survivors.value_counts()\n",
    "survived_people"
   ]
  },
  {
   "cell_type": "code",
   "execution_count": 17,
   "metadata": {},
   "outputs": [
    {
     "data": {
      "text/html": [
       "<div>\n",
       "<style>\n",
       "    .dataframe thead tr:only-child th {\n",
       "        text-align: right;\n",
       "    }\n",
       "\n",
       "    .dataframe thead th {\n",
       "        text-align: left;\n",
       "    }\n",
       "\n",
       "    .dataframe tbody tr th {\n",
       "        vertical-align: top;\n",
       "    }\n",
       "</style>\n",
       "<table border=\"1\" class=\"dataframe\">\n",
       "  <thead>\n",
       "    <tr style=\"text-align: right;\">\n",
       "      <th></th>\n",
       "      <th>Boarded the Titanic</th>\n",
       "      <th>Survived</th>\n",
       "    </tr>\n",
       "  </thead>\n",
       "  <tbody>\n",
       "    <tr>\n",
       "      <th>Female_adult</th>\n",
       "      <td>246</td>\n",
       "      <td>187</td>\n",
       "    </tr>\n",
       "    <tr>\n",
       "      <th>Female_child</th>\n",
       "      <td>68</td>\n",
       "      <td>46</td>\n",
       "    </tr>\n",
       "    <tr>\n",
       "      <th>Male_adult</th>\n",
       "      <td>506</td>\n",
       "      <td>85</td>\n",
       "    </tr>\n",
       "    <tr>\n",
       "      <th>Male_child</th>\n",
       "      <td>71</td>\n",
       "      <td>24</td>\n",
       "    </tr>\n",
       "  </tbody>\n",
       "</table>\n",
       "</div>"
      ],
      "text/plain": [
       "              Boarded the Titanic  Survived\n",
       "Female_adult                  246       187\n",
       "Female_child                   68        46\n",
       "Male_adult                    506        85\n",
       "Male_child                     71        24"
      ]
     },
     "execution_count": 17,
     "metadata": {},
     "output_type": "execute_result"
    }
   ],
   "source": [
    "survivors_people_df = pd.concat([adult_and_children_onboard, survived_people], axis=1)\n",
    "survivors_people_df.columns.values[0] = 'Boarded the Titanic'\n",
    "survivors_people_df.columns.values[1] = 'Survived'\n",
    "survivors_people_df"
   ]
  },
  {
   "cell_type": "code",
   "execution_count": 18,
   "metadata": {},
   "outputs": [
    {
     "name": "stdout",
     "output_type": "stream",
     "text": [
      "Proportion of the people who survived\n"
     ]
    },
    {
     "data": {
      "text/plain": [
       "Female_adult    0.760163\n",
       "Female_child    0.676471\n",
       "Male_adult      0.167984\n",
       "Male_child      0.338028\n",
       "Name: adult_child, dtype: float64"
      ]
     },
     "execution_count": 18,
     "metadata": {},
     "output_type": "execute_result"
    }
   ],
   "source": [
    "# Finding ot the proportion of people (based on the above classifcation) who survived\n",
    "classification_proportion = survived_people/adult_and_children_onboard\n",
    "print('Proportion of the people who survived')\n",
    "classification_proportion"
   ]
  },
  {
   "cell_type": "code",
   "execution_count": 19,
   "metadata": {},
   "outputs": [
    {
     "data": {
      "text/plain": [
       "<matplotlib.text.Text at 0x3d043c4668>"
      ]
     },
     "execution_count": 19,
     "metadata": {},
     "output_type": "execute_result"
    },
    {
     "data": {
      "image/png": "[encoded data removed]",
      "text/plain": [
       "<matplotlib.figure.Figure at 0x3d043002b0>"
      ]
     },
     "metadata": {},
     "output_type": "display_data"
    }
   ],
   "source": [
    "survivors_people_df.plot(kind='bar')\n",
    "plt.xlabel('People classified based on age and sex')\n",
    "plt.ylabel('Total number')\n",
    "plt.title('To compare the total people and survivors')"
   ]
  },
  {
   "cell_type": "markdown",
   "metadata": {},
   "source": [
    "__The bar graph shows__ the total count of the people concerned who were classified based on their sex and age. From the graph it can be inferred that the number of female adults and children who survived the titanic was more as compared to the number of male adults and male children who survived.\n",
    "\n"
   ]
  },
  {
   "cell_type": "markdown",
   "metadata": {},
   "source": [
    "__Results of the analysis and conclusion drawn,__ its found that 506 male adult and 71 boys boarded the titanic out of which only 85 male adults and 24 boys survived. Also, 246 female adults and 68 girls boarded the titanic out of which 187 female adult and 46 girls survived. Also the proportion of the population based on the above classification has also been calculated and it is found that for female adults chances of survival was 76% as compared to 16.7% of the male adults. And for girls on the Titanic chances of survival was 67.6% and for boys it was 33.8%. So in both cases chances of survival was better for the female adults and children."
   ]
  },
  {
   "cell_type": "markdown",
   "metadata": {},
   "source": [
    "__Limitation of this analysis :__ But from the above analysis, we cant find people of what age survived the most.\n",
    "To find that with the help of swarm plot we try to find which age of people survived the most."
   ]
  },
  {
   "cell_type": "code",
   "execution_count": 20,
   "metadata": {
    "collapsed": true
   },
   "outputs": [],
   "source": [
    "# Here I have used the Survived column in the dataframe as the index array to obtain only the sex and age details of each person.\n",
    "Survivors_age = titanic_df['Age'][titanic_df['Survived']==1]\n",
    "Survivors_sex = titanic_df['Sex'][titanic_df['Survived']==1]"
   ]
  },
  {
   "cell_type": "code",
   "execution_count": 21,
   "metadata": {},
   "outputs": [
    {
     "data": {
      "text/plain": [
       "<matplotlib.text.Text at 0x3d046bdb38>"
      ]
     },
     "execution_count": 21,
     "metadata": {},
     "output_type": "execute_result"
    },
    {
     "data": {
      "image/png": "[encoded data removed]",
      "text/plain": [
       "<matplotlib.figure.Figure at 0x3d04397828>"
      ]
     },
     "metadata": {},
     "output_type": "display_data"
    }
   ],
   "source": [
    "sns.set(style=\"whitegrid\")\n",
    "sns.swarmplot(x=Survivors_sex, y=Survivors_age)\n",
    "plt.title('Age of each sex which survived the most')"
   ]
  },
  {
   "cell_type": "markdown",
   "metadata": {},
   "source": [
    "__From the above swarmplot,__ we conclude age groups between 20 and 30 for both male and female were majority of the survivors and number of survivors in that group for females was very much larger than that for males. In the rest of the ages, the number of female survivors dominate that of the male survivors. Also, only one elderly man of age 80 had survived the tragedy. The rest of the age group of people were between 0 and 65 for both sexes.\n",
    "\n",
    "__Reference : __ https://seaborn.pydata.org/examples/scatterplot_categorical.html?highlight=scatterplot"
   ]
  },
  {
   "cell_type": "markdown",
   "metadata": {
    "collapsed": true
   },
   "source": [
    "# Based on port of embarkation: To determine the survivors from each port"
   ]
  },
  {
   "cell_type": "code",
   "execution_count": 22,
   "metadata": {},
   "outputs": [
    {
     "data": {
      "text/html": [
       "<div>\n",
       "<style>\n",
       "    .dataframe thead tr:only-child th {\n",
       "        text-align: right;\n",
       "    }\n",
       "\n",
       "    .dataframe thead th {\n",
       "        text-align: left;\n",
       "    }\n",
       "\n",
       "    .dataframe tbody tr th {\n",
       "        vertical-align: top;\n",
       "    }\n",
       "</style>\n",
       "<table border=\"1\" class=\"dataframe\">\n",
       "  <thead>\n",
       "    <tr style=\"text-align: right;\">\n",
       "      <th></th>\n",
       "      <th>Total_people</th>\n",
       "      <th>Survived</th>\n",
       "    </tr>\n",
       "    <tr>\n",
       "      <th>Embarked</th>\n",
       "      <th></th>\n",
       "      <th></th>\n",
       "    </tr>\n",
       "  </thead>\n",
       "  <tbody>\n",
       "    <tr>\n",
       "      <th>C</th>\n",
       "      <td>168</td>\n",
       "      <td>93</td>\n",
       "    </tr>\n",
       "    <tr>\n",
       "      <th>Q</th>\n",
       "      <td>77</td>\n",
       "      <td>30</td>\n",
       "    </tr>\n",
       "    <tr>\n",
       "      <th>S</th>\n",
       "      <td>646</td>\n",
       "      <td>219</td>\n",
       "    </tr>\n",
       "  </tbody>\n",
       "</table>\n",
       "</div>"
      ],
      "text/plain": [
       "          Total_people  Survived\n",
       "Embarked                        \n",
       "C                  168        93\n",
       "Q                   77        30\n",
       "S                  646       219"
      ]
     },
     "execution_count": 22,
     "metadata": {},
     "output_type": "execute_result"
    }
   ],
   "source": [
    "passengers_from_port = titanic_df.groupby('Embarked').count()['PassengerId']\n",
    "Survivors_each_port = titanic_df.groupby('Embarked').sum()['Survived']\n",
    "compare_port_survivors = pd.concat([passengers_from_port, Survivors_each_port], axis=1)\n",
    "compare_port_survivors.columns.values[0] = 'Total_people'   # Rename the 1st column\n",
    "compare_port_survivors "
   ]
  },
  {
   "cell_type": "code",
   "execution_count": 23,
   "metadata": {},
   "outputs": [
    {
     "name": "stdout",
     "output_type": "stream",
     "text": [
      "Number of passengers onboard from Cherbourg :  168\n",
      "Number of survivors from Cherbourg :  93\n",
      "\n",
      "\n",
      "Number of passengers onboard from Queenstown :  77\n",
      "Number of survivors from Queenstown :  30\n",
      "\n",
      "\n",
      "Number of passengers onboard from Southampton :  646\n",
      "Number of survivors from Southampton :  219\n"
     ]
    }
   ],
   "source": [
    "print(\"Number of passengers onboard from Cherbourg : \",passengers_from_port['C'])\n",
    "print(\"Number of survivors from Cherbourg : \",Survivors_each_port['C'])\n",
    "print('\\n')\n",
    "print(\"Number of passengers onboard from Queenstown : \",passengers_from_port['Q'])\n",
    "print(\"Number of survivors from Queenstown : \",Survivors_each_port['Q'])\n",
    "print('\\n')\n",
    "print(\"Number of passengers onboard from Southampton : \",passengers_from_port['S'])\n",
    "print(\"Number of survivors from Southampton : \",Survivors_each_port['S'])"
   ]
  },
  {
   "cell_type": "code",
   "execution_count": 24,
   "metadata": {},
   "outputs": [
    {
     "name": "stdout",
     "output_type": "stream",
     "text": [
      "Proportion of people survived from port Cherbourg :  0.553571428571\n",
      "Proportion of people survived from port Queenstown :  0.38961038961\n",
      "Proportion of people survived from port Southampton :  0.339009287926\n"
     ]
    }
   ],
   "source": [
    "Proportion_of_survivors_each_port = Survivors_each_port/passengers_from_port\n",
    "print('Proportion of people survived from port Cherbourg : ',Proportion_of_survivors_each_port['C'] )\n",
    "print('Proportion of people survived from port Queenstown : ',Proportion_of_survivors_each_port['Q'] )\n",
    "print('Proportion of people survived from port Southampton : ',Proportion_of_survivors_each_port['S'] )"
   ]
  },
  {
   "cell_type": "code",
   "execution_count": 25,
   "metadata": {},
   "outputs": [
    {
     "data": {
      "text/plain": [
       "<matplotlib.text.Text at 0x3d0475de10>"
      ]
     },
     "execution_count": 25,
     "metadata": {},
     "output_type": "execute_result"
    },
    {
     "data": {
      "image/png": "[encoded data removed]",
      "text/plain": [
       "<matplotlib.figure.Figure at 0x3d04691f28>"
      ]
     },
     "metadata": {},
     "output_type": "display_data"
    }
   ],
   "source": [
    "compare_port_survivors.plot(kind='bar')\n",
    "plt.xlabel('Ports of Embarkation')\n",
    "plt.ylabel('Total number')\n",
    "plt.title('To compare the total people boarded and survivors from each port')"
   ]
  },
  {
   "cell_type": "markdown",
   "metadata": {},
   "source": [
    "__From the above bar graph,__ we see that the number of passengers boarded from Southampton was higher than that boarded from Cherbourg and Queenstown. Also the number of survivors from Southampton was higher than that from Queenstown and Cherbourg."
   ]
  },
  {
   "cell_type": "markdown",
   "metadata": {},
   "source": [
    "__Conclusions drawn from the above anlysis,__ we see that 219 of the 646 passengers from Sothampton survived, 30 out of the 77 passengers from Queenstown survived and 93 out of the 168 passengers from Cherbourg survived.\n",
    "From the proportionality analysis, we conclude that more proportion of the passengers from the port Cherbourg have been saved as compared to the rest of the three ports. And the port of Southampton have faced the maximum casulaty even though it has the maximum survivors."
   ]
  },
  {
   "cell_type": "markdown",
   "metadata": {},
   "source": [
    "__Limitations of the above analysis :__  The data given for the port of embarkation had two missing values which i have assumed here to be Sothampton. The analysis is not explain why more number of passengers from Southampton did not survive as compared to the other two ports. As a further improvement to this analysis, we could classify the people boarded from each port on the basis of their age,sex and passenger class and find the survival of people from each port with more accuracy and clarity.\n"
   ]
  },
  {
   "cell_type": "markdown",
   "metadata": {},
   "source": [
    "# Passengers surviving from each class\n",
    "Here i will compare the total number of passengers in each of the three classes of Titanic and compare their number of survivors. "
   ]
  },
  {
   "cell_type": "code",
   "execution_count": 26,
   "metadata": {},
   "outputs": [
    {
     "data": {
      "text/html": [
       "<div>\n",
       "<style>\n",
       "    .dataframe thead tr:only-child th {\n",
       "        text-align: right;\n",
       "    }\n",
       "\n",
       "    .dataframe thead th {\n",
       "        text-align: left;\n",
       "    }\n",
       "\n",
       "    .dataframe tbody tr th {\n",
       "        vertical-align: top;\n",
       "    }\n",
       "</style>\n",
       "<table border=\"1\" class=\"dataframe\">\n",
       "  <thead>\n",
       "    <tr style=\"text-align: right;\">\n",
       "      <th></th>\n",
       "      <th>Total_people</th>\n",
       "      <th>Survived</th>\n",
       "    </tr>\n",
       "  </thead>\n",
       "  <tbody>\n",
       "    <tr>\n",
       "      <th>1</th>\n",
       "      <td>216</td>\n",
       "      <td>136</td>\n",
       "    </tr>\n",
       "    <tr>\n",
       "      <th>2</th>\n",
       "      <td>184</td>\n",
       "      <td>87</td>\n",
       "    </tr>\n",
       "    <tr>\n",
       "      <th>3</th>\n",
       "      <td>491</td>\n",
       "      <td>119</td>\n",
       "    </tr>\n",
       "  </tbody>\n",
       "</table>\n",
       "</div>"
      ],
      "text/plain": [
       "   Total_people  Survived\n",
       "1           216       136\n",
       "2           184        87\n",
       "3           491       119"
      ]
     },
     "execution_count": 26,
     "metadata": {},
     "output_type": "execute_result"
    }
   ],
   "source": [
    "Passengers_onboard_perclass = titanic_df['Pclass'].value_counts()\n",
    "Passengers_survived_perclass = titanic_df.groupby('Pclass').sum()['Survived']\n",
    "compare_survivors_pclass = pd.concat([Passengers_onboard_perclass, Passengers_survived_perclass], axis=1)\n",
    "compare_survivors_pclass.columns.values[0] = 'Total_people'   # Rename the 1st column\n",
    "compare_survivors_pclass"
   ]
  },
  {
   "cell_type": "code",
   "execution_count": 27,
   "metadata": {},
   "outputs": [
    {
     "name": "stdout",
     "output_type": "stream",
     "text": [
      "Proportion of people surviving from Class 1 :  0.62962962963\n",
      "Proportion of people surviving from Class 2 :  0.472826086957\n",
      "Proportion of people surviving from Class 3 :  0.242362525458\n"
     ]
    }
   ],
   "source": [
    "Proportion_of_people_survived_perclass = Passengers_survived_perclass/Passengers_onboard_perclass\n",
    "print('Proportion of people surviving from Class 1 : ',Proportion_of_people_survived_perclass[1])\n",
    "print('Proportion of people surviving from Class 2 : ',Proportion_of_people_survived_perclass[2])\n",
    "print('Proportion of people surviving from Class 3 : ',Proportion_of_people_survived_perclass[3])"
   ]
  },
  {
   "cell_type": "code",
   "execution_count": 28,
   "metadata": {},
   "outputs": [
    {
     "data": {
      "text/plain": [
       "<matplotlib.text.Text at 0x3d0481e668>"
      ]
     },
     "execution_count": 28,
     "metadata": {},
     "output_type": "execute_result"
    },
    {
     "data": {
      "image/png": "[encoded data removed]",
      "text/plain": [
       "<matplotlib.figure.Figure at 0x3d04691a20>"
      ]
     },
     "metadata": {},
     "output_type": "display_data"
    }
   ],
   "source": [
    "compare_survivors_pclass.plot(kind='bar')\n",
    "plt.xlabel('Passenger Class')\n",
    "plt.ylabel('Total number')\n",
    "plt.ylabel('Total number')\n",
    "plt.title('To compare the total people boarded and survivors from each passenger class')"
   ]
  },
  {
   "cell_type": "markdown",
   "metadata": {},
   "source": [
    "__From the bar graph,__ it can be inferred that more number of passengers travelled from the 3rd class as compared to that travelled from 1st class and 2nd class. But the number of survivors from the 1st class was more than that survived in 2nd class and 3rd class. "
   ]
  },
  {
   "cell_type": "markdown",
   "metadata": {},
   "source": [
    "__ Results obtained from the above analysis,__ we see that 136 of 216 passengers from class 1 survived, 87 of the 184 class 2 passengers survived and class 3 had 119 survivors out of the 491 onboarded passengers.  Using proportionality we observe that the passengers belonging to class 1 followed by class 2, had better chances of survival as compared to that of class 3 passengers. "
   ]
  },
  {
   "cell_type": "markdown",
   "metadata": {},
   "source": [
    "__Limitations to the above analysis : __The above analysis is not able to explain why more number of 3rd class passengers did not survive as compared to the 1st and 2nd class passengers on the Titanic. \n",
    "\n",
    "As a further __improvement to this analysis,__ we can find out how many members of a family (child/parents/siblings/spouse) were in the same class and how many survived. We can also classify each passenger on basis of their age, sex and port of embarkation and find their survival chances."
   ]
  },
  {
   "cell_type": "markdown",
   "metadata": {},
   "source": [
    "# Check the number of survivors with respect to the Passenger Fare they paid"
   ]
  },
  {
   "cell_type": "markdown",
   "metadata": {},
   "source": [
    "Here i am going to check the survival of passengers based on the fares they have given.\n",
    "\n",
    "The graph below shows the fare range of passengers who boarded on the titanic. I have based the bin range with the help of df.describe() function above which shows the maximum and minimum range of the fares paid."
   ]
  },
  {
   "cell_type": "code",
   "execution_count": 29,
   "metadata": {},
   "outputs": [
    {
     "data": {
      "text/plain": [
       "<matplotlib.text.Text at 0x3d048cd7f0>"
      ]
     },
     "execution_count": 29,
     "metadata": {},
     "output_type": "execute_result"
    },
    {
     "data": {
      "image/png": "[encoded data removed]",
      "text/plain": [
       "<matplotlib.figure.Figure at 0x3d0479cf60>"
      ]
     },
     "metadata": {},
     "output_type": "display_data"
    }
   ],
   "source": [
    "titanic_df['Fare'].hist(bins=[0,50,100,200,300,550])\n",
    "plt.xlabel('Passenger Fares for Titanic')\n",
    "plt.ylabel('Total number')\n",
    "plt.title('Histogram of pasenger fares on Titanic')"
   ]
  },
  {
   "cell_type": "markdown",
   "metadata": {},
   "source": [
    "The above graph shows that the majority of passengers have paid the passenger fares in the range of 1-50. And very few of them have paid in the range of 300 to 500."
   ]
  },
  {
   "cell_type": "code",
   "execution_count": 30,
   "metadata": {},
   "outputs": [
    {
     "data": {
      "text/plain": [
       "<matplotlib.text.Text at 0x3d04985eb8>"
      ]
     },
     "execution_count": 30,
     "metadata": {},
     "output_type": "execute_result"
    },
    {
     "data": {
      "image/png": "[encoded data removed]",
      "text/plain": [
       "<matplotlib.figure.Figure at 0x3d04812278>"
      ]
     },
     "metadata": {},
     "output_type": "display_data"
    }
   ],
   "source": [
    "t = []\n",
    "for i in range(len(titanic_df)):\n",
    "    if titanic_df['Survived'].iloc[i]:\n",
    "            t.append(titanic_df['Fare'].iloc[i])\n",
    "survivors_only_fares = pd.Series(t)\n",
    "survivors_only_fares.hist()\n",
    "plt.xlabel('Passenger Fares for Titanic')\n",
    "plt.ylabel('Total number')\n",
    "plt.title('Histogram of pasenger fares on Titanic')"
   ]
  },
  {
   "cell_type": "markdown",
   "metadata": {},
   "source": [
    "__Conclusions from the above graph,__ the passengers who had paid the lesser fares had to face more casuality as compared to those who had paid more. Approxiately, 500 of the passengers who had paid lesser passenger fare had died as compared to those who had paid more. The casuality in the higher passenger fare rates is less.  "
   ]
  },
  {
   "cell_type": "markdown",
   "metadata": {},
   "source": [
    "__Limitation of this analysis__ is that due to less data available for passengers paying higher fares we can't clearly analyze what happened to the survival of passengers who paid higher fares. If more data was available we could have mapped fare paid to the  passenger class and age. Hence could have found passenger fare for each class and for different age groups or sex."
   ]
  },
  {
   "cell_type": "markdown",
   "metadata": {},
   "source": [
    "# Children Survived who had parents aboard the titanic \n",
    "Here for analysis age group <=18 has been considered as children. \n",
    "For this analysis, i have tried to compare the survival of those children who had parents onboard on the Titanic with them as compared to those who didn't had theirs."
   ]
  },
  {
   "cell_type": "code",
   "execution_count": 31,
   "metadata": {
    "collapsed": true
   },
   "outputs": [],
   "source": [
    "Total_children_onboard = adult_and_children_onboard['Male_child'] + adult_and_children_onboard['Female_child']\n",
    "Total_survived_children = survived_people['Male_child'] + survived_people['Female_child']"
   ]
  },
  {
   "cell_type": "code",
   "execution_count": 32,
   "metadata": {
    "collapsed": true
   },
   "outputs": [],
   "source": [
    "children_with_parents = titanic_df['Survived'].loc[(titanic_df['Parch'] != 0) & \n",
    "               ((titanic_df['adult_child'] == 'Male_child') | (titanic_df['adult_child'] == 'Female_child'))].count()\n",
    "\n",
    "Total_survived_children_with_parents = titanic_df['Survived'].loc[(titanic_df['Survived'] > 0) & (titanic_df['Parch'] > 0) & \n",
    "               ((titanic_df['adult_child'] == 'Male_child') | (titanic_df['adult_child'] == 'Female_child'))].sum()\n",
    "\n",
    "children_without_parents = titanic_df['Survived'].loc[(titanic_df['Parch'] == 0) & \n",
    "               ((titanic_df['adult_child'] == 'Male_child') | (titanic_df['adult_child'] == 'Female_child'))].count()\n",
    "\n",
    "Total_survived_children_without_parents = titanic_df['Survived'].loc[(titanic_df['Survived'] > 0) & (titanic_df['Parch'] == 0) & \n",
    "               ((titanic_df['adult_child'] == 'Male_child') | (titanic_df['adult_child'] == 'Female_child'))].sum()\n"
   ]
  },
  {
   "cell_type": "code",
   "execution_count": 33,
   "metadata": {},
   "outputs": [
    {
     "name": "stdout",
     "output_type": "stream",
     "text": [
      "Total Children onboard :  139\n",
      "Total survived children :  70\n",
      "\n",
      "\n",
      "Children with parents onboard :  89\n",
      "Survived children who had parents onboard :  50\n",
      "\n",
      "\n",
      "Children without parents onboard :  50\n",
      "Survived children without parents onboard :  20\n"
     ]
    }
   ],
   "source": [
    "print('Total Children onboard : ',Total_children_onboard)\n",
    "print('Total survived children : ',Total_survived_children)\n",
    "print('\\n')\n",
    "print('Children with parents onboard : ',children_with_parents)\n",
    "print('Survived children who had parents onboard : ',Total_survived_children_with_parents)\n",
    "print('\\n')\n",
    "print('Children without parents onboard : ',children_without_parents)\n",
    "print('Survived children without parents onboard : ',Total_survived_children_without_parents)    \n"
   ]
  },
  {
   "cell_type": "code",
   "execution_count": 34,
   "metadata": {},
   "outputs": [
    {
     "name": "stdout",
     "output_type": "stream",
     "text": [
      "Proportion of children survived who had parents onboard :  0.561797752809\n",
      "Proportion of children survived without parents onboard :  0.4\n"
     ]
    }
   ],
   "source": [
    "print('Proportion of children survived who had parents onboard : ',Total_survived_children_with_parents/children_with_parents)\n",
    "print('Proportion of children survived without parents onboard : ',\n",
    "      Total_survived_children_without_parents/children_without_parents)"
   ]
  },
  {
   "cell_type": "markdown",
   "metadata": {},
   "source": [
    "__Results obtained from the above anlysis,__ i found out that out of the 139 children onboard only 70 had survived. Of these 50 (out of 89) of the survivng children had parents onboard with them and  20 out of 50 chidren who did not have parents onboard with them on titanic survived.\n",
    "\n",
    "__Conclusion drawn : __ the children who had parents onboard with them had a slightly better chance of survival as compared to those who didn't had theirs."
   ]
  },
  {
   "cell_type": "markdown",
   "metadata": {},
   "source": [
    "__Limitations to the above anlaysis : __ we can't tell which child's parents survived and which parents' child survived as there is no mapping between parents to their respective children in the given dataset. Hence, i have limited my analysis to the survival of children who had their parents onboard with them and not. "
   ]
  },
  {
   "cell_type": "markdown",
   "metadata": {},
   "source": [
    "# Survival chances of people who had siblings/spouses onboard"
   ]
  },
  {
   "cell_type": "markdown",
   "metadata": {},
   "source": [
    "Here i have tried to compare the survival chances of people who had their siblings/spouses on their boards with those who didn't had theirs."
   ]
  },
  {
   "cell_type": "code",
   "execution_count": 35,
   "metadata": {
    "collapsed": true
   },
   "outputs": [],
   "source": [
    "people_with_sibsp = titanic_df['SibSp'].loc[titanic_df['SibSp']>0].count()\n",
    "survived_sibsp = titanic_df['Survived'].loc[(titanic_df['SibSp']>0) & (titanic_df['Survived']==1)].sum()\n",
    "survived_without_sibsp = titanic_df['Survived'].loc[(titanic_df['SibSp']==0) & (titanic_df['Survived']==1)].sum()\n",
    "people_without_sibsp = titanic_df['PassengerId'].count() - people_with_sibsp"
   ]
  },
  {
   "cell_type": "code",
   "execution_count": 36,
   "metadata": {},
   "outputs": [
    {
     "name": "stdout",
     "output_type": "stream",
     "text": [
      "Total people with siblings/spouse onboard :  283\n",
      "Survived people with siblings/spouse onboard :  132\n",
      "\n",
      "\n",
      "Total people without any siblings/spouse onboard :  608\n",
      "Survived people without siblings/spouse onboard :  210\n",
      "\n",
      "\n",
      "Proportion of survived people having siblings/spouse on board :  0.466431095406\n",
      "Proportion of survived people without siblings/spouse on board :  0.345394736842\n"
     ]
    }
   ],
   "source": [
    "\n",
    "print(\"Total people with siblings/spouse onboard : \",people_with_sibsp)\n",
    "print(\"Survived people with siblings/spouse onboard : \",survived_sibsp)\n",
    "print('\\n')\n",
    "print(\"Total people without any siblings/spouse onboard : \",people_without_sibsp)\n",
    "print(\"Survived people without siblings/spouse onboard : \",survived_without_sibsp)\n",
    "print('\\n')\n",
    "\n",
    "print(\"Proportion of survived people having siblings/spouse on board : \", survived_sibsp/people_with_sibsp)\n",
    "print(\"Proportion of survived people without siblings/spouse on board : \", survived_without_sibsp/people_without_sibsp)\n",
    "\n"
   ]
  },
  {
   "cell_type": "markdown",
   "metadata": {
    "collapsed": true
   },
   "source": [
    "__Results obtained from the above analysis,__ was aimed at finding out the chances of survival of those people who had their siblings/spouses onboard with them on titanic. So 132 out of 283 people having siblins/spouses onboard survived. And 210 out of 608 people having no siblins/spouses onboard survived.\n",
    "\n",
    "__Conclusions from the above analysis__ that the chances of survival would have been slightly better for people who had their siblings/spouses onboard with them on the Titanic as compared to those who didn't had."
   ]
  },
  {
   "cell_type": "markdown",
   "metadata": {},
   "source": [
    "__Limitations of the above analysis__ that we cannot differentiate whether the concerned parties where siblings or spouses. So we cannot match how many of a person's siblings survived or which one of the spouses or siblings survived. \n",
    "\n",
    "__As a further improvement to this analysis__ if the above mentioned limitations were corrected we could have mapped a person to his family(child/parents/siblings/spouse) and could have found out how many menbers of that family survived and who all didn't and in which passenger class they boarded the Titanic, their port of embarkation and the total fare they paid.  "
   ]
  },
  {
   "cell_type": "markdown",
   "metadata": {},
   "source": [
    "# Conclusion Part"
   ]
  },
  {
   "cell_type": "markdown",
   "metadata": {},
   "source": [
    "__Answers to the questions obtained after the analysis : __\n",
    "\n",
    "1. The female passengers on the Titanic had better chances of survival than the male passenegrs. The chances of survival of female passengers was 74.2% as compared to that of 19% of the male passengers.\n",
    "\n",
    "2.  After classifying the male and female passengers as adults and children its found after the analysis that the number of female adults and children who survived the titanic was more as compared to the number of male adults and male children who survived. For female adults chances of survival was 76% as compared to 16.7% of the male adults. And for girls on the Titanic chances of survival was 67.6% and for boys it was 33.8%. It is also found that age groups between 20 and 30 for both male and female were majority of the survivors and number of survivors in that group for females was very much larger than that for males. \n",
    "\n",
    "3. From the above analysis, it is found that 19 of the 646 passengers from Southampton survived, 30 out of the 77 passengers from Queenstown survived and 93 out of the 168 passengers from Cherbourg survived. From the proportionality analysis, we conclude that more proportion of the passengers from the port Cherbourg have been saved i.e., 55.3% as compared to the rest of the two ports 38% and 33% for Queenstown and Southampton respectively. And the port of Southampton have faced the maximum casulaty even though it has the maximum survivors.\n",
    "\n",
    "4. From the above analysis, it is found that 136 of 216 passengers from class 1 survived, 87 of the 184 class 2 passengers survived and class 3 had 119 survivors out of the 491 onboarded passengers. Using proportionality we observe that the passengers belonging to class 1 followed by class 2, had better chances of survival as compared to that of class 3 passengers.\n",
    "\n",
    "5. the passengers who had paid the lesser fares had to face more casuality as compared to those who had paid more. Approxiately, 500 of the passengers who had paid lesser passenger fare had died as compared to those who had paid more. The casuality in the higher passenger fare rates is less.\n",
    "\n",
    "6.  The children who had parents onboard with them had a slightly better chance of survival as compared to those who didn't had theirs. From the proportions, it is found that children having parents onboard had survival chances of 56% as compared to the 40% of those children not having their parents onboard.\n",
    "\n",
    "7. The chances of survival was slightly better for people who had their siblings/spouses onboard with them on the Titanic as compared to those who didn't had their siblins/spouse onboard. From the proportions, it is found that people with siblings/spouses onboard had survival chances of 46% as compared to the 34% of those who did not had their siblings/spouses onboard.\n",
    "\n",
    "__Limitations of the above analysis : __\n",
    "\n",
    "1. Data was missing from the age column and port of embarkation.\n",
    "2. Due to the limited amount of data and information present no relationships between passengers was made. Example who were the parents of a child or who was a particular persons'spouse or sibling or parent."
   ]
  },
  {
   "cell_type": "markdown",
   "metadata": {
    "collapsed": true
   },
   "source": [
    "# References made:\n",
    "\n",
    "Udacity Forum\n",
    "\n",
    "https://www.kaggle.com/c/titanic/discussion/28323\n",
    "\n",
    "https://preinventedwheel.com/easy-matplotlib-bar-chart/\n",
    "\n",
    "https://matplotlib.org/users/pyplot_tutorial.html#working-with-multiple-figures-and-axes\n",
    "\n",
    "https://stackoverflow.com/questions/18083187/combining-two-series-in-pandas-along-their-index\n",
    "\n",
    "https://pandas.pydata.org/pandas-docs/stable/generated/pandas.Series.append.html\n",
    "\n",
    "https://discuss.analyticsvidhya.com/t/how-to-change-the-name-of-specific-column-in-pandas-dataframe/1127/2\n",
    "\n",
    "https://seaborn.pydata.org/examples/scatterplot_categorical.html?highlight=scatterplot"
   ]
  },
  {
   "cell_type": "code",
   "execution_count": null,
   "metadata": {
    "collapsed": true
   },
   "outputs": [],
   "source": []
  }
 ],
 "metadata": {
  "kernelspec": {
   "display_name": "Python [default]",
   "language": "python",
   "name": "python3"
  },
  "language_info": {
   "codemirror_mode": {
    "name": "ipython",
    "version": 3
   },
   "file_extension": ".py",
   "mimetype": "text/x-python",
   "name": "python",
   "nbconvert_exporter": "python",
   "pygments_lexer": "ipython3",
   "version": "3.6.1"
  }
 },
 "nbformat": 4,
 "nbformat_minor": 2
}
